{
 "cells": [
  {
   "cell_type": "code",
   "execution_count": 1,
   "id": "2280e753",
   "metadata": {},
   "outputs": [],
   "source": [
    "import numpy as np\n",
    "import pandas as pd\n",
    "import matplotlib.pyplot as plt\n",
    "import collections\n",
    "import os\n",
    "from decimal import Decimal\n",
    "import glob\n",
    "import seaborn as sns\n",
    "import matplotlib\n",
    "import matplotlib.pyplot as plt\n",
    "%matplotlib inline\n",
    "matplotlib.rcParams['axes.unicode_minus'] = False\n",
    "import platform\n",
    "from matplotlib import font_manager, rc\n",
    "font = 'Malgun Gothic'\n",
    "plt.rcParams['font.family'] = font\n",
    "import warnings\n",
    "warnings.filterwarnings(action='ignore')"
   ]
  },
  {
   "cell_type": "code",
   "execution_count": 2,
   "id": "9a778a8b",
   "metadata": {},
   "outputs": [],
   "source": [
    "data= pd.read_csv('total_data.csv')"
   ]
  },
  {
   "cell_type": "code",
   "execution_count": 3,
   "id": "5fd20bda",
   "metadata": {},
   "outputs": [],
   "source": [
    "start_year=2009\n",
    "end_year=2018\n",
    "TT_year=2016"
   ]
  },
  {
   "cell_type": "code",
   "execution_count": 4,
   "id": "c19f8e18",
   "metadata": {},
   "outputs": [],
   "source": [
    "# data_C = pd.read_excel('Zone_FS_2016_C.xlsx')\n",
    "data=data[(data['Year']>=start_year) & (data['Year']<=end_year)]\n",
    "data.index=range(len(data))"
   ]
  },
  {
   "cell_type": "code",
   "execution_count": 5,
   "id": "20eaa303",
   "metadata": {},
   "outputs": [],
   "source": [
    "data_train=data[data['Year']<=TT_year]\n",
    "data_train.index=range(len(data_train))\n",
    "data_test=data[data['Year']>TT_year]\n",
    "data_test.index=range(len(data_test))"
   ]
  },
  {
   "cell_type": "code",
   "execution_count": null,
   "id": "dd858e2d",
   "metadata": {},
   "outputs": [],
   "source": []
  },
  {
   "cell_type": "code",
   "execution_count": null,
   "id": "b8333103",
   "metadata": {},
   "outputs": [],
   "source": []
  },
  {
   "cell_type": "markdown",
   "id": "c1319aff",
   "metadata": {},
   "source": [
    "# SVM"
   ]
  },
  {
   "cell_type": "code",
   "execution_count": 6,
   "id": "71054797",
   "metadata": {},
   "outputs": [],
   "source": [
    "result_SVM=pd.read_excel('./final_total_result/result_SVM_outbreak.xlsx')\n",
    "predict_SVM=pd.read_excel('./final_total_result/predict_SVM_outbreak.xlsx')"
   ]
  },
  {
   "cell_type": "code",
   "execution_count": 7,
   "id": "95f4e346",
   "metadata": {},
   "outputs": [],
   "source": [
    "result_sum=result_SVM.iloc[:,result_SVM.columns.str.contains(\"Sim\")]\n",
    "predict_sum=predict_SVM.iloc[:,predict_SVM.columns.str.contains(\"Sim\")]"
   ]
  },
  {
   "cell_type": "code",
   "execution_count": 8,
   "id": "1a2f0bf6",
   "metadata": {},
   "outputs": [],
   "source": [
    "result_sum['warning']=result_SVM['warning']\n",
    "predict_sum['warning']=predict_SVM['warning']\n"
   ]
  },
  {
   "cell_type": "code",
   "execution_count": 9,
   "id": "17094334",
   "metadata": {},
   "outputs": [],
   "source": [
    "r_tmp=result_SVM.iloc[:,result_SVM.columns.str.contains(\"Sim\")]\n",
    "result_sum['SVM_mean']=r_tmp.mean(axis=1)\n",
    "result_sum['SVM_95+']=r_tmp.quantile(axis=1,q=0.975)\n",
    "result_sum['SVM_95-']=r_tmp.quantile(axis=1,q=0.025)"
   ]
  },
  {
   "cell_type": "code",
   "execution_count": 10,
   "id": "e7f93aa8",
   "metadata": {},
   "outputs": [],
   "source": [
    "p_tmp=predict_SVM.iloc[:,predict_SVM.columns.str.contains(\"Sim\")]\n",
    "predict_sum['SVM_mean']=p_tmp.mean(axis=1)\n",
    "predict_sum['SVM_95+']=p_tmp.quantile(axis=1,q=0.975)\n",
    "predict_sum['SVM_95-']=p_tmp.quantile(axis=1,q=0.025)"
   ]
  },
  {
   "cell_type": "code",
   "execution_count": 11,
   "id": "4b256a6c",
   "metadata": {},
   "outputs": [],
   "source": [
    "p_v=0.5\n",
    "\n",
    "for i in result_sum.index:\n",
    "    if (result_sum.loc[i,'SVM_95+']>=p_v):\n",
    "        result_sum.loc[i,'prediction_95+']=1\n",
    "    else:\n",
    "        result_sum.loc[i,'prediction_95+']=0\n",
    "\n",
    "for i in predict_sum.index:\n",
    "    if (predict_sum.loc[i,'SVM_95+']>=p_v):\n",
    "        predict_sum.loc[i,'prediction_95+']=1\n",
    "    else:\n",
    "        predict_sum.loc[i,'prediction_95+']=0\n",
    "        \n",
    "for i in result_sum.index:\n",
    "    if (result_sum.loc[i,'SVM_95-']>=p_v):\n",
    "        result_sum.loc[i,'prediction_95-']=1\n",
    "    else:\n",
    "        result_sum.loc[i,'prediction_95-']=0\n",
    "\n",
    "for i in predict_sum.index:\n",
    "    if (predict_sum.loc[i,'SVM_95-']>=p_v):\n",
    "        predict_sum.loc[i,'prediction_95-']=1\n",
    "    else:\n",
    "        predict_sum.loc[i,'prediction_95-']=0\n",
    "        \n",
    "for i in result_sum.index:\n",
    "    if (result_sum.loc[i,'SVM_mean']>=p_v):\n",
    "        result_sum.loc[i,'prediction']=1\n",
    "    else:\n",
    "        result_sum.loc[i,'prediction']=0\n",
    "\n",
    "for i in predict_sum.index:\n",
    "    if (predict_sum.loc[i,'SVM_mean']>=p_v):\n",
    "        predict_sum.loc[i,'prediction']=1\n",
    "    else:\n",
    "        predict_sum.loc[i,'prediction']=0"
   ]
  },
  {
   "cell_type": "code",
   "execution_count": 12,
   "id": "1db76de2",
   "metadata": {},
   "outputs": [],
   "source": [
    "result_save=result_sum[['warning', 'prediction_95-','prediction','prediction_95+']]\n",
    "predict_save=predict_sum[['warning', 'prediction_95-','prediction','prediction_95+']]"
   ]
  },
  {
   "cell_type": "code",
   "execution_count": 13,
   "id": "6ef81ac9",
   "metadata": {},
   "outputs": [],
   "source": [
    "result_save['Week']=data_train['Week']\n",
    "result_save['Year']=data_train['Year']\n",
    "result_save['season']=data_train['season']\n",
    "\n",
    "predict_save['Week']=data_test['Week']\n",
    "predict_save['Year']=data_test['Year']\n",
    "predict_save['season']=data_test['season']"
   ]
  },
  {
   "cell_type": "code",
   "execution_count": 14,
   "id": "80732267",
   "metadata": {},
   "outputs": [],
   "source": [
    "for i in range(len(result_save)):\n",
    "    temp_sum=result_save.loc[i,['prediction_95-','prediction','prediction_95+']].sum()\n",
    "    if temp_sum==3:\n",
    "        result_save.loc[i,'level']=3\n",
    "    else:\n",
    "        if temp_sum==0:\n",
    "            result_save.loc[i,'level']=1\n",
    "        else:\n",
    "            result_save.loc[i,'level']=2"
   ]
  },
  {
   "cell_type": "code",
   "execution_count": 15,
   "id": "9fb2e4d2",
   "metadata": {},
   "outputs": [],
   "source": [
    "for i in range(len(predict_save)):\n",
    "    temp_sum=predict_save.loc[i,['prediction_95-','prediction','prediction_95+']].sum()\n",
    "    if temp_sum==3:\n",
    "        predict_save.loc[i,'level']=3\n",
    "    else:\n",
    "        if temp_sum==0:\n",
    "            predict_save.loc[i,'level']=1\n",
    "        else:\n",
    "            predict_save.loc[i,'level']=2"
   ]
  },
  {
   "cell_type": "code",
   "execution_count": 16,
   "id": "ef5e1fb1",
   "metadata": {},
   "outputs": [],
   "source": [
    "result_save.to_excel('level_SVM_train.xlsx')\n",
    "predict_save.to_excel('level_SVM_test.xlsx')"
   ]
  },
  {
   "cell_type": "code",
   "execution_count": null,
   "id": "785dd70c",
   "metadata": {},
   "outputs": [],
   "source": []
  },
  {
   "cell_type": "code",
   "execution_count": null,
   "id": "4e0e2f7e",
   "metadata": {},
   "outputs": [],
   "source": []
  },
  {
   "cell_type": "markdown",
   "id": "9bdde732",
   "metadata": {},
   "source": [
    "# MLP"
   ]
  },
  {
   "cell_type": "code",
   "execution_count": null,
   "id": "ee19222e",
   "metadata": {},
   "outputs": [],
   "source": []
  },
  {
   "cell_type": "code",
   "execution_count": 17,
   "id": "d426529e",
   "metadata": {},
   "outputs": [],
   "source": [
    "result_MLP=pd.read_excel('./final_total_result/result_MLP_outbreak.xlsx')\n",
    "predict_MLP=pd.read_excel('./final_total_result/predict_MLP_outbreak.xlsx')"
   ]
  },
  {
   "cell_type": "code",
   "execution_count": 18,
   "id": "c091b9bc",
   "metadata": {},
   "outputs": [],
   "source": [
    "result_sum=result_MLP.iloc[:,result_MLP.columns.str.contains(\"Sim\")]\n",
    "predict_sum=predict_MLP.iloc[:,predict_MLP.columns.str.contains(\"Sim\")]"
   ]
  },
  {
   "cell_type": "code",
   "execution_count": 19,
   "id": "97e4fd4a",
   "metadata": {},
   "outputs": [],
   "source": [
    "result_sum['warning']=result_MLP['warning']\n",
    "predict_sum['warning']=predict_MLP['warning']\n"
   ]
  },
  {
   "cell_type": "code",
   "execution_count": 20,
   "id": "767e5855",
   "metadata": {},
   "outputs": [],
   "source": [
    "r_tmp=result_MLP.iloc[:,result_MLP.columns.str.contains(\"Sim\")]\n",
    "result_sum['MLP_mean']=r_tmp.mean(axis=1)\n",
    "result_sum['MLP_95+']=r_tmp.quantile(axis=1,q=0.975)\n",
    "result_sum['MLP_95-']=r_tmp.quantile(axis=1,q=0.025)"
   ]
  },
  {
   "cell_type": "code",
   "execution_count": 21,
   "id": "007db771",
   "metadata": {},
   "outputs": [],
   "source": [
    "p_tmp=predict_MLP.iloc[:,predict_MLP.columns.str.contains(\"Sim\")]\n",
    "predict_sum['MLP_mean']=p_tmp.mean(axis=1)\n",
    "predict_sum['MLP_95+']=p_tmp.quantile(axis=1,q=0.975)\n",
    "predict_sum['MLP_95-']=p_tmp.quantile(axis=1,q=0.025)"
   ]
  },
  {
   "cell_type": "code",
   "execution_count": 22,
   "id": "05f87492",
   "metadata": {},
   "outputs": [],
   "source": [
    "p_v=0.5\n",
    "\n",
    "for i in result_sum.index:\n",
    "    if (result_sum.loc[i,'MLP_95+']>=p_v):\n",
    "        result_sum.loc[i,'prediction_95+']=1\n",
    "    else:\n",
    "        result_sum.loc[i,'prediction_95+']=0\n",
    "\n",
    "for i in predict_sum.index:\n",
    "    if (predict_sum.loc[i,'MLP_95+']>=p_v):\n",
    "        predict_sum.loc[i,'prediction_95+']=1\n",
    "    else:\n",
    "        predict_sum.loc[i,'prediction_95+']=0\n",
    "        \n",
    "for i in result_sum.index:\n",
    "    if (result_sum.loc[i,'MLP_95-']>=p_v):\n",
    "        result_sum.loc[i,'prediction_95-']=1\n",
    "    else:\n",
    "        result_sum.loc[i,'prediction_95-']=0\n",
    "\n",
    "for i in predict_sum.index:\n",
    "    if (predict_sum.loc[i,'MLP_95-']>=p_v):\n",
    "        predict_sum.loc[i,'prediction_95-']=1\n",
    "    else:\n",
    "        predict_sum.loc[i,'prediction_95-']=0\n",
    "        \n",
    "for i in result_sum.index:\n",
    "    if (result_sum.loc[i,'MLP_mean']>=p_v):\n",
    "        result_sum.loc[i,'prediction']=1\n",
    "    else:\n",
    "        result_sum.loc[i,'prediction']=0\n",
    "\n",
    "for i in predict_sum.index:\n",
    "    if (predict_sum.loc[i,'MLP_mean']>=p_v):\n",
    "        predict_sum.loc[i,'prediction']=1\n",
    "    else:\n",
    "        predict_sum.loc[i,'prediction']=0"
   ]
  },
  {
   "cell_type": "code",
   "execution_count": 23,
   "id": "d0cd866e",
   "metadata": {},
   "outputs": [],
   "source": [
    "result_save=result_sum[['warning', 'prediction_95-','prediction','prediction_95+']]\n",
    "predict_save=predict_sum[['warning', 'prediction_95-','prediction','prediction_95+']]"
   ]
  },
  {
   "cell_type": "code",
   "execution_count": 24,
   "id": "e515344e",
   "metadata": {},
   "outputs": [],
   "source": [
    "result_save['Week']=data_train['Week']\n",
    "result_save['Year']=data_train['Year']\n",
    "result_save['season']=data_train['season']\n",
    "\n",
    "predict_save['Week']=data_test['Week']\n",
    "predict_save['Year']=data_test['Year']\n",
    "predict_save['season']=data_test['season']"
   ]
  },
  {
   "cell_type": "code",
   "execution_count": 25,
   "id": "64f3ad89",
   "metadata": {},
   "outputs": [],
   "source": [
    "for i in range(len(result_save)):\n",
    "    temp_sum=result_save.loc[i,['prediction_95-','prediction','prediction_95+']].sum()\n",
    "    if temp_sum==3:\n",
    "        result_save.loc[i,'level']=3\n",
    "    else:\n",
    "        if temp_sum==0:\n",
    "            result_save.loc[i,'level']=1\n",
    "        else:\n",
    "            result_save.loc[i,'level']=2"
   ]
  },
  {
   "cell_type": "code",
   "execution_count": 26,
   "id": "d3630101",
   "metadata": {},
   "outputs": [],
   "source": [
    "for i in range(len(predict_save)):\n",
    "    temp_sum=predict_save.loc[i,['prediction_95-','prediction','prediction_95+']].sum()\n",
    "    if temp_sum==3:\n",
    "        predict_save.loc[i,'level']=3\n",
    "    else:\n",
    "        if temp_sum==0:\n",
    "            predict_save.loc[i,'level']=1\n",
    "        else:\n",
    "            predict_save.loc[i,'level']=2"
   ]
  },
  {
   "cell_type": "code",
   "execution_count": 27,
   "id": "dbc4d8ec",
   "metadata": {},
   "outputs": [],
   "source": [
    "result_save.to_excel('level_MLP_train.xlsx')\n",
    "predict_save.to_excel('level_MLP_test.xlsx')"
   ]
  },
  {
   "cell_type": "code",
   "execution_count": null,
   "id": "6e60cd89",
   "metadata": {},
   "outputs": [],
   "source": []
  },
  {
   "cell_type": "markdown",
   "id": "7c222222",
   "metadata": {},
   "source": [
    "# RF"
   ]
  },
  {
   "cell_type": "code",
   "execution_count": null,
   "id": "c3e59b21",
   "metadata": {},
   "outputs": [],
   "source": []
  },
  {
   "cell_type": "code",
   "execution_count": 28,
   "id": "a773de14",
   "metadata": {},
   "outputs": [],
   "source": [
    "result_RF=pd.read_excel('./final_total_result/result_RF_outbreak.xlsx')\n",
    "predict_RF=pd.read_excel('./final_total_result/predict_RF_outbreak.xlsx')"
   ]
  },
  {
   "cell_type": "code",
   "execution_count": 29,
   "id": "08a6092b",
   "metadata": {},
   "outputs": [],
   "source": [
    "result_sum=result_RF.iloc[:,result_RF.columns.str.contains(\"Sim\")]\n",
    "predict_sum=predict_RF.iloc[:,predict_RF.columns.str.contains(\"Sim\")]"
   ]
  },
  {
   "cell_type": "code",
   "execution_count": 30,
   "id": "6756d9d6",
   "metadata": {},
   "outputs": [],
   "source": [
    "result_sum['warning']=result_MLP['warning']\n",
    "predict_sum['warning']=predict_MLP['warning']\n"
   ]
  },
  {
   "cell_type": "code",
   "execution_count": 31,
   "id": "fe2b183e",
   "metadata": {},
   "outputs": [],
   "source": [
    "r_tmp=result_MLP.iloc[:,result_MLP.columns.str.contains(\"Sim\")]\n",
    "result_sum['MLP_mean']=r_tmp.mean(axis=1)\n",
    "result_sum['MLP_95+']=r_tmp.quantile(axis=1,q=0.975)\n",
    "result_sum['MLP_95-']=r_tmp.quantile(axis=1,q=0.025)"
   ]
  },
  {
   "cell_type": "code",
   "execution_count": 32,
   "id": "eb009404",
   "metadata": {},
   "outputs": [],
   "source": [
    "p_tmp=predict_MLP.iloc[:,predict_MLP.columns.str.contains(\"Sim\")]\n",
    "predict_sum['MLP_mean']=p_tmp.mean(axis=1)\n",
    "predict_sum['MLP_95+']=p_tmp.quantile(axis=1,q=0.975)\n",
    "predict_sum['MLP_95-']=p_tmp.quantile(axis=1,q=0.025)"
   ]
  },
  {
   "cell_type": "code",
   "execution_count": 33,
   "id": "0c44af73",
   "metadata": {},
   "outputs": [],
   "source": [
    "p_v=0.5\n",
    "\n",
    "for i in result_sum.index:\n",
    "    if (result_sum.loc[i,'MLP_95+']>=p_v):\n",
    "        result_sum.loc[i,'prediction_95+']=1\n",
    "    else:\n",
    "        result_sum.loc[i,'prediction_95+']=0\n",
    "\n",
    "for i in predict_sum.index:\n",
    "    if (predict_sum.loc[i,'MLP_95+']>=p_v):\n",
    "        predict_sum.loc[i,'prediction_95+']=1\n",
    "    else:\n",
    "        predict_sum.loc[i,'prediction_95+']=0\n",
    "        \n",
    "for i in result_sum.index:\n",
    "    if (result_sum.loc[i,'MLP_95-']>=p_v):\n",
    "        result_sum.loc[i,'prediction_95-']=1\n",
    "    else:\n",
    "        result_sum.loc[i,'prediction_95-']=0\n",
    "\n",
    "for i in predict_sum.index:\n",
    "    if (predict_sum.loc[i,'MLP_95-']>=p_v):\n",
    "        predict_sum.loc[i,'prediction_95-']=1\n",
    "    else:\n",
    "        predict_sum.loc[i,'prediction_95-']=0\n",
    "        \n",
    "for i in result_sum.index:\n",
    "    if (result_sum.loc[i,'MLP_mean']>=p_v):\n",
    "        result_sum.loc[i,'prediction']=1\n",
    "    else:\n",
    "        result_sum.loc[i,'prediction']=0\n",
    "\n",
    "for i in predict_sum.index:\n",
    "    if (predict_sum.loc[i,'MLP_mean']>=p_v):\n",
    "        predict_sum.loc[i,'prediction']=1\n",
    "    else:\n",
    "        predict_sum.loc[i,'prediction']=0"
   ]
  },
  {
   "cell_type": "code",
   "execution_count": 34,
   "id": "4ab7b90a",
   "metadata": {},
   "outputs": [],
   "source": [
    "result_save=result_sum[['warning', 'prediction_95-','prediction','prediction_95+']]\n",
    "predict_save=predict_sum[['warning', 'prediction_95-','prediction','prediction_95+']]"
   ]
  },
  {
   "cell_type": "code",
   "execution_count": 35,
   "id": "7167094f",
   "metadata": {},
   "outputs": [],
   "source": [
    "result_save['Week']=data_train['Week']\n",
    "result_save['Year']=data_train['Year']\n",
    "result_save['season']=data_train['season']\n",
    "\n",
    "predict_save['Week']=data_test['Week']\n",
    "predict_save['Year']=data_test['Year']\n",
    "predict_save['season']=data_test['season']"
   ]
  },
  {
   "cell_type": "code",
   "execution_count": 36,
   "id": "9e6b1eee",
   "metadata": {},
   "outputs": [],
   "source": [
    "for i in range(len(result_save)):\n",
    "    temp_sum=result_save.loc[i,['prediction_95-','prediction','prediction_95+']].sum()\n",
    "    if temp_sum==3:\n",
    "        result_save.loc[i,'level']=3\n",
    "    else:\n",
    "        if temp_sum==0:\n",
    "            result_save.loc[i,'level']=1\n",
    "        else:\n",
    "            result_save.loc[i,'level']=2"
   ]
  },
  {
   "cell_type": "code",
   "execution_count": 37,
   "id": "6da946af",
   "metadata": {},
   "outputs": [],
   "source": [
    "for i in range(len(predict_save)):\n",
    "    temp_sum=predict_save.loc[i,['prediction_95-','prediction','prediction_95+']].sum()\n",
    "    if temp_sum==3:\n",
    "        predict_save.loc[i,'level']=3\n",
    "    else:\n",
    "        if temp_sum==0:\n",
    "            predict_save.loc[i,'level']=1\n",
    "        else:\n",
    "            predict_save.loc[i,'level']=2"
   ]
  },
  {
   "cell_type": "code",
   "execution_count": 38,
   "id": "3c4e4c84",
   "metadata": {},
   "outputs": [],
   "source": [
    "result_save.to_excel('level_RF_train.xlsx')\n",
    "predict_save.to_excel('level_RF_test.xlsx')"
   ]
  },
  {
   "cell_type": "code",
   "execution_count": null,
   "id": "8e6fe9c2",
   "metadata": {},
   "outputs": [],
   "source": []
  },
  {
   "cell_type": "code",
   "execution_count": null,
   "id": "789a7dbe",
   "metadata": {},
   "outputs": [],
   "source": []
  },
  {
   "cell_type": "markdown",
   "id": "150f66b0",
   "metadata": {},
   "source": [
    "# GB"
   ]
  },
  {
   "cell_type": "code",
   "execution_count": null,
   "id": "7d4b73fb",
   "metadata": {},
   "outputs": [],
   "source": []
  },
  {
   "cell_type": "code",
   "execution_count": 39,
   "id": "a7c0dfbb",
   "metadata": {},
   "outputs": [],
   "source": [
    "result_GB=pd.read_excel('./final_total_result/result_GB_outbreak.xlsx')\n",
    "predict_GB=pd.read_excel('./final_total_result/predict_GB_outbreak.xlsx')"
   ]
  },
  {
   "cell_type": "code",
   "execution_count": 40,
   "id": "f46c4cdd",
   "metadata": {},
   "outputs": [],
   "source": [
    "result_sum=result_GB.iloc[:,result_GB.columns.str.contains(\"Sim\")]\n",
    "predict_sum=predict_GB.iloc[:,predict_GB.columns.str.contains(\"Sim\")]"
   ]
  },
  {
   "cell_type": "code",
   "execution_count": 41,
   "id": "a5af2363",
   "metadata": {},
   "outputs": [],
   "source": [
    "result_sum['warning']=result_GB['warning']\n",
    "predict_sum['warning']=predict_GB['warning']\n"
   ]
  },
  {
   "cell_type": "code",
   "execution_count": 42,
   "id": "8f71bb07",
   "metadata": {},
   "outputs": [],
   "source": [
    "r_tmp=result_GB.iloc[:,result_GB.columns.str.contains(\"Sim\")]\n",
    "result_sum['GB_mean']=r_tmp.mean(axis=1)\n",
    "result_sum['GB_95+']=r_tmp.quantile(axis=1,q=0.975)\n",
    "result_sum['GB_95-']=r_tmp.quantile(axis=1,q=0.025)"
   ]
  },
  {
   "cell_type": "code",
   "execution_count": 43,
   "id": "a4bb02f5",
   "metadata": {},
   "outputs": [],
   "source": [
    "p_tmp=predict_GB.iloc[:,predict_GB.columns.str.contains(\"Sim\")]\n",
    "predict_sum['GB_mean']=p_tmp.mean(axis=1)\n",
    "predict_sum['GB_95+']=p_tmp.quantile(axis=1,q=0.975)\n",
    "predict_sum['GB_95-']=p_tmp.quantile(axis=1,q=0.025)"
   ]
  },
  {
   "cell_type": "code",
   "execution_count": 44,
   "id": "ac81c912",
   "metadata": {},
   "outputs": [],
   "source": [
    "p_v=0.5\n",
    "\n",
    "for i in result_sum.index:\n",
    "    if (result_sum.loc[i,'GB_95+']>=p_v):\n",
    "        result_sum.loc[i,'prediction_95+']=1\n",
    "    else:\n",
    "        result_sum.loc[i,'prediction_95+']=0\n",
    "\n",
    "for i in predict_sum.index:\n",
    "    if (predict_sum.loc[i,'GB_95+']>=p_v):\n",
    "        predict_sum.loc[i,'prediction_95+']=1\n",
    "    else:\n",
    "        predict_sum.loc[i,'prediction_95+']=0\n",
    "        \n",
    "for i in result_sum.index:\n",
    "    if (result_sum.loc[i,'GB_95-']>=p_v):\n",
    "        result_sum.loc[i,'prediction_95-']=1\n",
    "    else:\n",
    "        result_sum.loc[i,'prediction_95-']=0\n",
    "\n",
    "for i in predict_sum.index:\n",
    "    if (predict_sum.loc[i,'GB_95-']>=p_v):\n",
    "        predict_sum.loc[i,'prediction_95-']=1\n",
    "    else:\n",
    "        predict_sum.loc[i,'prediction_95-']=0\n",
    "        \n",
    "for i in result_sum.index:\n",
    "    if (result_sum.loc[i,'GB_mean']>=p_v):\n",
    "        result_sum.loc[i,'prediction']=1\n",
    "    else:\n",
    "        result_sum.loc[i,'prediction']=0\n",
    "\n",
    "for i in predict_sum.index:\n",
    "    if (predict_sum.loc[i,'GB_mean']>=p_v):\n",
    "        predict_sum.loc[i,'prediction']=1\n",
    "    else:\n",
    "        predict_sum.loc[i,'prediction']=0"
   ]
  },
  {
   "cell_type": "code",
   "execution_count": 45,
   "id": "bde31144",
   "metadata": {},
   "outputs": [],
   "source": [
    "result_save=result_sum[['warning', 'prediction_95-','prediction','prediction_95+']]\n",
    "predict_save=predict_sum[['warning', 'prediction_95-','prediction','prediction_95+']]"
   ]
  },
  {
   "cell_type": "code",
   "execution_count": 46,
   "id": "ba03121c",
   "metadata": {},
   "outputs": [],
   "source": [
    "result_save['Week']=data_train['Week']\n",
    "result_save['Year']=data_train['Year']\n",
    "result_save['season']=data_train['season']\n",
    "\n",
    "predict_save['Week']=data_test['Week']\n",
    "predict_save['Year']=data_test['Year']\n",
    "predict_save['season']=data_test['season']"
   ]
  },
  {
   "cell_type": "code",
   "execution_count": 47,
   "id": "2da3229f",
   "metadata": {},
   "outputs": [],
   "source": [
    "for i in range(len(result_save)):\n",
    "    temp_sum=result_save.loc[i,['prediction_95-','prediction','prediction_95+']].sum()\n",
    "    if temp_sum==3:\n",
    "        result_save.loc[i,'level']=3\n",
    "    else:\n",
    "        if temp_sum==0:\n",
    "            result_save.loc[i,'level']=1\n",
    "        else:\n",
    "            result_save.loc[i,'level']=2"
   ]
  },
  {
   "cell_type": "code",
   "execution_count": 48,
   "id": "25dbf282",
   "metadata": {},
   "outputs": [],
   "source": [
    "for i in range(len(predict_save)):\n",
    "    temp_sum=predict_save.loc[i,['prediction_95-','prediction','prediction_95+']].sum()\n",
    "    if temp_sum==3:\n",
    "        predict_save.loc[i,'level']=3\n",
    "    else:\n",
    "        if temp_sum==0:\n",
    "            predict_save.loc[i,'level']=1\n",
    "        else:\n",
    "            predict_save.loc[i,'level']=2"
   ]
  },
  {
   "cell_type": "code",
   "execution_count": 49,
   "id": "07bf3dfa",
   "metadata": {},
   "outputs": [],
   "source": [
    "result_save.to_excel('level_GB_train.xlsx')\n",
    "predict_save.to_excel('level_GB_test.xlsx')"
   ]
  },
  {
   "cell_type": "code",
   "execution_count": null,
   "id": "5d75d9c2",
   "metadata": {},
   "outputs": [],
   "source": []
  },
  {
   "cell_type": "code",
   "execution_count": null,
   "id": "a04397ed",
   "metadata": {},
   "outputs": [],
   "source": []
  },
  {
   "cell_type": "markdown",
   "id": "5c623514",
   "metadata": {},
   "source": [
    "# LSTM"
   ]
  },
  {
   "cell_type": "code",
   "execution_count": null,
   "id": "ae6217ef",
   "metadata": {},
   "outputs": [],
   "source": []
  },
  {
   "cell_type": "code",
   "execution_count": 51,
   "id": "8215122e",
   "metadata": {},
   "outputs": [],
   "source": [
    "result_LSTM=pd.read_excel('./final_total_result/result_save.xlsx')\n",
    "predict_LSTM=pd.read_excel('./final_total_result/predict_save.xlsx')"
   ]
  },
  {
   "cell_type": "code",
   "execution_count": 53,
   "id": "d91e2057",
   "metadata": {},
   "outputs": [],
   "source": [
    "result_sum=result_LSTM\n",
    "predict_sum=predict_LSTM\n"
   ]
  },
  {
   "cell_type": "code",
   "execution_count": 54,
   "id": "1620b9f7",
   "metadata": {},
   "outputs": [],
   "source": [
    "result_save=result_sum[['warning', 'prediction_95-','prediction','prediction_95+']]\n",
    "predict_save=predict_sum[['warning', 'prediction_95-','prediction','prediction_95+']]"
   ]
  },
  {
   "cell_type": "code",
   "execution_count": 55,
   "id": "0f9272e1",
   "metadata": {},
   "outputs": [],
   "source": [
    "result_save['Week']=data_train['Week']\n",
    "result_save['Year']=data_train['Year']\n",
    "result_save['season']=data_train['season']\n",
    "\n",
    "predict_save['Week']=data_test['Week']\n",
    "predict_save['Year']=data_test['Year']\n",
    "predict_save['season']=data_test['season']"
   ]
  },
  {
   "cell_type": "code",
   "execution_count": 56,
   "id": "01a14261",
   "metadata": {},
   "outputs": [],
   "source": [
    "for i in range(len(result_save)):\n",
    "    temp_sum=result_save.loc[i,['prediction_95-','prediction','prediction_95+']].sum()\n",
    "    if temp_sum==3:\n",
    "        result_save.loc[i,'level']=3\n",
    "    else:\n",
    "        if temp_sum==0:\n",
    "            result_save.loc[i,'level']=1\n",
    "        else:\n",
    "            result_save.loc[i,'level']=2"
   ]
  },
  {
   "cell_type": "code",
   "execution_count": 57,
   "id": "e6563a51",
   "metadata": {},
   "outputs": [],
   "source": [
    "for i in range(len(predict_save)):\n",
    "    temp_sum=predict_save.loc[i,['prediction_95-','prediction','prediction_95+']].sum()\n",
    "    if temp_sum==3:\n",
    "        predict_save.loc[i,'level']=3\n",
    "    else:\n",
    "        if temp_sum==0:\n",
    "            predict_save.loc[i,'level']=1\n",
    "        else:\n",
    "            predict_save.loc[i,'level']=2"
   ]
  },
  {
   "cell_type": "code",
   "execution_count": 58,
   "id": "7a6cea17",
   "metadata": {},
   "outputs": [],
   "source": [
    "result_save.to_excel('level_LSTM_train.xlsx')\n",
    "predict_save.to_excel('level_LSTM_test.xlsx')"
   ]
  },
  {
   "cell_type": "code",
   "execution_count": null,
   "id": "0bef9379",
   "metadata": {},
   "outputs": [],
   "source": []
  },
  {
   "cell_type": "code",
   "execution_count": null,
   "id": "04c1e3c7",
   "metadata": {},
   "outputs": [],
   "source": []
  },
  {
   "cell_type": "markdown",
   "id": "b89da6f1",
   "metadata": {},
   "source": [
    "# GRU"
   ]
  },
  {
   "cell_type": "code",
   "execution_count": null,
   "id": "d563fd4a",
   "metadata": {},
   "outputs": [],
   "source": []
  },
  {
   "cell_type": "markdown",
   "id": "bcfc0beb",
   "metadata": {},
   "source": [
    "# GRU"
   ]
  },
  {
   "cell_type": "code",
   "execution_count": null,
   "id": "398bbe6d",
   "metadata": {},
   "outputs": [],
   "source": []
  },
  {
   "cell_type": "code",
   "execution_count": 62,
   "id": "dcbfb50c",
   "metadata": {},
   "outputs": [],
   "source": [
    "result_GRU=pd.read_excel('./final_total_result/result_save_gru.xlsx')\n",
    "predict_GRU=pd.read_excel('./final_total_result/predict_save_gru.xlsx')"
   ]
  },
  {
   "cell_type": "code",
   "execution_count": 63,
   "id": "ac5d240c",
   "metadata": {},
   "outputs": [],
   "source": [
    "result_sum=result_GRU\n",
    "predict_sum=predict_GRU\n"
   ]
  },
  {
   "cell_type": "code",
   "execution_count": 64,
   "id": "7662cff1",
   "metadata": {},
   "outputs": [],
   "source": [
    "result_save=result_sum[['warning', 'prediction_95-','prediction','prediction_95+']]\n",
    "predict_save=predict_sum[['warning', 'prediction_95-','prediction','prediction_95+']]"
   ]
  },
  {
   "cell_type": "code",
   "execution_count": 65,
   "id": "acee2bc8",
   "metadata": {},
   "outputs": [],
   "source": [
    "result_save['Week']=data_train['Week']\n",
    "result_save['Year']=data_train['Year']\n",
    "result_save['season']=data_train['season']\n",
    "\n",
    "predict_save['Week']=data_test['Week']\n",
    "predict_save['Year']=data_test['Year']\n",
    "predict_save['season']=data_test['season']"
   ]
  },
  {
   "cell_type": "code",
   "execution_count": 66,
   "id": "9c13f435",
   "metadata": {},
   "outputs": [],
   "source": [
    "for i in range(len(result_save)):\n",
    "    temp_sum=result_save.loc[i,['prediction_95-','prediction','prediction_95+']].sum()\n",
    "    if temp_sum==3:\n",
    "        result_save.loc[i,'level']=3\n",
    "    else:\n",
    "        if temp_sum==0:\n",
    "            result_save.loc[i,'level']=1\n",
    "        else:\n",
    "            result_save.loc[i,'level']=2"
   ]
  },
  {
   "cell_type": "code",
   "execution_count": 67,
   "id": "a0ed1ccb",
   "metadata": {},
   "outputs": [],
   "source": [
    "for i in range(len(predict_save)):\n",
    "    temp_sum=predict_save.loc[i,['prediction_95-','prediction','prediction_95+']].sum()\n",
    "    if temp_sum==3:\n",
    "        predict_save.loc[i,'level']=3\n",
    "    else:\n",
    "        if temp_sum==0:\n",
    "            predict_save.loc[i,'level']=1\n",
    "        else:\n",
    "            predict_save.loc[i,'level']=2"
   ]
  },
  {
   "cell_type": "code",
   "execution_count": 68,
   "id": "dd03361b",
   "metadata": {},
   "outputs": [],
   "source": [
    "result_save.to_excel('level_GRU_train.xlsx')\n",
    "predict_save.to_excel('level_GRU_test.xlsx')"
   ]
  },
  {
   "cell_type": "code",
   "execution_count": null,
   "id": "740dc0f2",
   "metadata": {},
   "outputs": [],
   "source": []
  }
 ],
 "metadata": {
  "kernelspec": {
   "display_name": "Python 3 (ipykernel)",
   "language": "python",
   "name": "python3"
  },
  "language_info": {
   "codemirror_mode": {
    "name": "ipython",
    "version": 3
   },
   "file_extension": ".py",
   "mimetype": "text/x-python",
   "name": "python",
   "nbconvert_exporter": "python",
   "pygments_lexer": "ipython3",
   "version": "3.9.7"
  }
 },
 "nbformat": 4,
 "nbformat_minor": 5
}
