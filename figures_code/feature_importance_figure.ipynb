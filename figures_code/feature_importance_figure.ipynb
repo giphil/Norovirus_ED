{
 "cells": [
  {
   "cell_type": "code",
   "execution_count": 1,
   "metadata": {},
   "outputs": [],
   "source": [
    "# import libraries\n",
    "import numpy as np\n",
    "import pandas as pd\n",
    "import matplotlib.pyplot as plt\n",
    "import collections\n",
    "import os\n",
    "import seaborn as sns\n",
    "import matplotlib\n",
    "import matplotlib.pyplot as plt\n",
    "%matplotlib inline\n",
    "matplotlib.rcParams['axes.unicode_minus'] = False\n",
    "import platform\n",
    "from matplotlib import font_manager, rc\n",
    "font = 'Arial'\n",
    "plt.rcParams['font.family'] = font\n",
    "import warnings\n",
    "warnings.filterwarnings(action='ignore')\n",
    "from sklearn.preprocessing import MinMaxScaler"
   ]
  },
  {
   "cell_type": "code",
   "execution_count": 2,
   "metadata": {},
   "outputs": [],
   "source": [
    "from sklearn.inspection import permutation_importance\n",
    "from numpy import mean\n",
    "from numpy import std\n",
    "from sklearn.datasets import make_classification\n",
    "from sklearn.model_selection import cross_val_score\n",
    "from sklearn.model_selection import RepeatedStratifiedKFold\n",
    "from sklearn.feature_selection import RFE\n",
    "\n",
    "from matplotlib import pyplot\n",
    "from sklearn import metrics\n",
    "from sklearn.metrics import confusion_matrix\n",
    "from sklearn.metrics import roc_curve, auc\n",
    "from sklearn import linear_model\n",
    "from numpy import mean\n",
    "from numpy import std\n",
    "from sklearn.datasets import make_regression\n",
    "from sklearn.model_selection import cross_val_score\n",
    "from sklearn.model_selection import RepeatedKFold\n",
    "from sklearn.feature_selection import RFE\n",
    "from sklearn.metrics import r2_score\n",
    "\n",
    "from sklearn.ensemble import RandomForestClassifier\n",
    "from sklearn.ensemble import GradientBoostingClassifier"
   ]
  },
  {
   "cell_type": "code",
   "execution_count": 19,
   "metadata": {},
   "outputs": [],
   "source": [
    "# Reading the input data\n",
    "data_C=data= pd.read_csv('total_data.csv')"
   ]
  },
  {
   "cell_type": "code",
   "execution_count": 20,
   "metadata": {},
   "outputs": [],
   "source": [
    "for i in data_C.columns[2:data_C.shape[1]+1]:\n",
    "    data_C[i]=data_C[i].astype('float')"
   ]
  },
  {
   "cell_type": "code",
   "execution_count": 21,
   "metadata": {},
   "outputs": [
    {
     "data": {
      "text/plain": [
       "Index(['level_0', 'Time', 'Year', 'Week', 'Month', 'Rate',\n",
       "       'Average temperature', 'Minimum temperature', 'Maximum temperature',\n",
       "       'Rainfall', 'Minimum humidity', 'Relative humidity', 'Day length',\n",
       "       'Duration of sunshine', 'Soil temperature at 3m',\n",
       "       'Soil temperature at 5m', 'Number of Daycare center',\n",
       "       'Population of Daycare center', 'outbreak', 'warning', 'peak',\n",
       "       'warning3', 'warning2', 'season', 'Last norovirus detection late',\n",
       "       'th'],\n",
       "      dtype='object')"
      ]
     },
     "execution_count": 21,
     "metadata": {},
     "output_type": "execute_result"
    }
   ],
   "source": [
    "data_C.columns"
   ]
  },
  {
   "cell_type": "code",
   "execution_count": 22,
   "metadata": {},
   "outputs": [],
   "source": [
    "variables=['Week','Minimum temperature','Rainfall', 'Relative humidity', 'Day length',\n",
    "       'Soil temperature at 3m',\n",
    "       'Soil temperature at 5m','Last norovirus detection late']\n",
    "targets=['warning']"
   ]
  },
  {
   "cell_type": "code",
   "execution_count": 23,
   "metadata": {},
   "outputs": [],
   "source": [
    "data_train=data_C[(data_C['Year']>=2009)&(data_C['Year']<2017)]\n",
    "data_train.index=range(len(data_train))"
   ]
  },
  {
   "cell_type": "code",
   "execution_count": 24,
   "metadata": {},
   "outputs": [],
   "source": [
    "data_test=data_C[data_C['Year']>=2017]\n",
    "data_test.index=range(len(data_test))"
   ]
  },
  {
   "cell_type": "code",
   "execution_count": 25,
   "metadata": {},
   "outputs": [],
   "source": [
    "targets=['warning']"
   ]
  },
  {
   "cell_type": "code",
   "execution_count": 31,
   "metadata": {},
   "outputs": [],
   "source": [
    "data_FS_X=data_train[variables]\n",
    "data_FS_X_copy=data_FS_X.copy()"
   ]
  },
  {
   "cell_type": "code",
   "execution_count": 32,
   "metadata": {},
   "outputs": [],
   "source": [
    "data_FS_Y=data_train[targets]\n",
    "data_FS_Y_copy=data_FS_Y.copy()"
   ]
  },
  {
   "cell_type": "code",
   "execution_count": 40,
   "metadata": {},
   "outputs": [],
   "source": [
    "data_test_X=data_test[variables]\n",
    "data_test_Y=data_test[targets]\n",
    "\n",
    "data_test_X_copy=data_test_X.copy()\n",
    "data_test_Y_copy=data_test_Y.copy()\n"
   ]
  },
  {
   "cell_type": "code",
   "execution_count": 41,
   "metadata": {},
   "outputs": [],
   "source": [
    "scaler = MinMaxScaler()\n",
    "\n",
    "data_FS_X = scaler.fit_transform(data_FS_X)\n",
    "data_test_X = scaler.fit_transform(data_test_X)\n",
    "\n",
    "data_FS_X = pd.DataFrame(data_FS_X)\n",
    "data_test_X = pd.DataFrame(data_test_X)\n",
    "\n",
    "data_FS_X.columns = variables\n",
    "data_test_X.columns = variables"
   ]
  },
  {
   "cell_type": "code",
   "execution_count": 42,
   "metadata": {},
   "outputs": [],
   "source": [
    "data_FS_X=data_FS_X[variables]\n",
    "data_test_X=data_test_X[variables]"
   ]
  },
  {
   "cell_type": "code",
   "execution_count": 43,
   "metadata": {},
   "outputs": [],
   "source": [
    "FI_RF=pd.DataFrame(columns={'Feature'})\n",
    "FI_RF['Feature']=data_FS_X.columns\n",
    "\n",
    "FI_GB=pd.DataFrame(columns={'Feature'})\n",
    "FI_GB['Feature']=data_FS_X.columns"
   ]
  },
  {
   "cell_type": "markdown",
   "metadata": {},
   "source": [
    "# RF"
   ]
  },
  {
   "cell_type": "code",
   "execution_count": 45,
   "metadata": {},
   "outputs": [],
   "source": [
    "max_depth_1=10\n",
    "max_features_1=0.5\n",
    "max_leaf_nodes_1=5\n",
    "learning_rate_1=0.04\n",
    "n_estimators_1=20\n",
    "\n",
    "n_hidden_nodes=20\n",
    "alpha=0.3\n",
    "\n",
    "fit_num=1000\n",
    "\n",
    "tree_num=4\n",
    "for i in range(fit_num):\n",
    "\n",
    "    RF_clf = RandomForestClassifier(n_estimators = n_estimators_1,\n",
    "                                          max_depth = max_depth_1,\n",
    "                                          max_features = max_features_1,\n",
    "                                          max_leaf_nodes = max_leaf_nodes_1)\n",
    "    RF_clf.fit(data_FS_X, data_FS_Y)\n",
    "    y_predict=RF_clf.predict(data_test_X)\n",
    "    feature_importance = RF_clf.feature_importances_\n",
    "    \n",
    "    temp=pd.DataFrame(columns={'Feature'})\n",
    "    temp['Feature']=data_FS_X.columns\n",
    "    temp['Feature Importance']=feature_importance \n",
    "    \n",
    "    \n",
    "    FI_RF['Simulation_'+ str(i)]=feature_importance"
   ]
  },
  {
   "cell_type": "code",
   "execution_count": 26,
   "metadata": {},
   "outputs": [],
   "source": [
    "FI_RF.to_excel('Feature_Importance_RF.xlsx',index=None)"
   ]
  },
  {
   "cell_type": "code",
   "execution_count": 27,
   "metadata": {},
   "outputs": [],
   "source": [
    "FI_RF=pd.read_excel('Feature_Importance_RF.xlsx')"
   ]
  },
  {
   "cell_type": "code",
   "execution_count": 28,
   "metadata": {},
   "outputs": [],
   "source": [
    "for i in range(len(FI_RF)):\n",
    "    FI_RF.loc[i,'mean']=FI_RF.loc[i,FI_RF.columns[1:]].mean()"
   ]
  },
  {
   "cell_type": "code",
   "execution_count": 29,
   "metadata": {
    "scrolled": true
   },
   "outputs": [
    {
     "data": {
      "text/plain": [
       "0    0.036633\n",
       "1    0.244470\n",
       "2    0.001885\n",
       "3    0.024320\n",
       "4    0.110143\n",
       "5    0.013610\n",
       "6    0.012753\n",
       "7    0.556185\n",
       "Name: mean, dtype: float64"
      ]
     },
     "execution_count": 29,
     "metadata": {},
     "output_type": "execute_result"
    }
   ],
   "source": [
    "FI_RF['mean'] # RF"
   ]
  },
  {
   "cell_type": "code",
   "execution_count": 37,
   "metadata": {},
   "outputs": [
    {
     "data": {
      "image/png": "[encoded data removed]",
      "text/plain": [
       "<Figure size 720x576 with 1 Axes>"
      ]
     },
     "metadata": {
      "needs_background": "light"
     },
     "output_type": "display_data"
    }
   ],
   "source": [
    "plt.figure(figsize=(10,8))\n",
    "plt.rc('font', size=20)        # 기본 폰트 크기\n",
    "plt.rc('axes', labelsize=20)   # x,y축 label 폰트 크기\n",
    "plt.rc('xtick', labelsize=20)  # x축 눈금 폰트 크기 \n",
    "plt.rc('ytick', labelsize=20)  # y축 눈금 폰트 크기\n",
    "plt.rc('legend', fontsize=20)  # 범례 폰트 크기\n",
    "plt.rc('figure', titlesize=50) # figure title 폰트 크기\n",
    "font2 = {'family': 'Arial','color':'k','weight': 'bold','size': 30}\n",
    "for j in range(2):\n",
    "#     plt.subplot(2,1,1)\n",
    "    if (j==0):\n",
    "        feature_importance=FI_RF['mean']\n",
    "        sorted_idx = np.argsort(feature_importance)\n",
    "        pos = np.arange(sorted_idx.shape[0]) + .5\n",
    "        plt.barh(pos, feature_importance[sorted_idx], align='center')\n",
    "        plt.yticks(pos, np.array(data_FS_X.columns)[sorted_idx])\n",
    "#         plt.xlim([0, 0.35])\n",
    "        plt.xlabel('Feature Importance')\n",
    "        plt.rc('axes', titlesize=20)\n",
    "        plt.title('RF')\n",
    "#         plt.text(-0.15, 8, 'A', fontdict=font2)\n",
    "        plt.rcParams['font.family'] = 'Arial'\n",
    "\n",
    "plt.tight_layout()\n",
    "plt.savefig('FI_RF.tiff', dpi=300,facecolor='white',bbox_inches='tight')\n",
    "plt.show()"
   ]
  },
  {
   "cell_type": "markdown",
   "metadata": {},
   "source": [
    "# GB"
   ]
  },
  {
   "cell_type": "code",
   "execution_count": 47,
   "metadata": {},
   "outputs": [],
   "source": [
    "max_depth_1=10\n",
    "max_features_1=0.5\n",
    "max_leaf_nodes_1=5\n",
    "learning_rate_1=0.04\n",
    "n_estimators_1=20\n",
    "\n",
    "n_hidden_nodes=20\n",
    "alpha=0.3\n",
    "\n",
    "fit_num=1000\n",
    "\n",
    "tree_num=4\n",
    "for i in range(fit_num):\n",
    "    \n",
    "    GB_clf = GradientBoostingClassifier(n_estimators = n_estimators_1,\n",
    "                                          learning_rate = learning_rate_1,\n",
    "                                          subsample = 0.9,\n",
    "                                          max_depth = max_depth_1,\n",
    "                                          max_features = max_features_1,\n",
    "                                          max_leaf_nodes = max_leaf_nodes_1)\n",
    "    GB_clf.fit(data_FS_X, data_FS_Y)\n",
    "    y_predict = GB_clf.predict(data_test_X)\n",
    "    feature_importance = GB_clf.feature_importances_\n",
    "    \n",
    "    temp=pd.DataFrame(columns={'Feature'})\n",
    "    temp['Feature']=data_FS_X.columns\n",
    "    temp['Feature Importance']=feature_importance \n",
    "    \n",
    "    \n",
    "    FI_GB['Simulation_'+ str(i)]=feature_importance"
   ]
  },
  {
   "cell_type": "code",
   "execution_count": 39,
   "metadata": {},
   "outputs": [],
   "source": [
    "FI_GB.to_excel('Feature_Importance_gb.xlsx',index=None)"
   ]
  },
  {
   "cell_type": "code",
   "execution_count": 40,
   "metadata": {},
   "outputs": [],
   "source": [
    "FI_GB=pd.read_excel('Feature_Importance_gb.xlsx')"
   ]
  },
  {
   "cell_type": "code",
   "execution_count": 41,
   "metadata": {},
   "outputs": [],
   "source": [
    "for i in range(len(FI_GB)):\n",
    "    FI_GB.loc[i,'mean']=FI_GB.loc[i,FI_GB.columns[1:]].mean()"
   ]
  },
  {
   "cell_type": "code",
   "execution_count": 43,
   "metadata": {},
   "outputs": [
    {
     "data": {
      "text/plain": [
       "array([0.        , 0.02122067, 0.01156565, 0.01164665, 0.05060443,\n",
       "       0.09923395, 0.33811322, 0.46761543])"
      ]
     },
     "execution_count": 43,
     "metadata": {},
     "output_type": "execute_result"
    }
   ],
   "source": [
    "feature_importance[sorted_idx]"
   ]
  },
  {
   "cell_type": "code",
   "execution_count": 44,
   "metadata": {},
   "outputs": [
    {
     "data": {
      "image/png": "[encoded data removed]",
      "text/plain": [
       "<Figure size 720x576 with 1 Axes>"
      ]
     },
     "metadata": {
      "needs_background": "light"
     },
     "output_type": "display_data"
    }
   ],
   "source": [
    "plt.figure(figsize=(10,8))\n",
    "plt.rc('font', size=20)        # 기본 폰트 크기\n",
    "plt.rc('axes', labelsize=20)   # x,y축 label 폰트 크기\n",
    "plt.rc('xtick', labelsize=20)  # x축 눈금 폰트 크기 \n",
    "plt.rc('ytick', labelsize=20)  # y축 눈금 폰트 크기\n",
    "plt.rc('legend', fontsize=20)  # 범례 폰트 크기\n",
    "plt.rc('figure', titlesize=50) # figure title 폰트 크기\n",
    "font2 = {'family': 'Arial','color':'k','weight': 'bold','size': 30}\n",
    "for j in range(2):\n",
    "#     plt.subplot(2,1,1)\n",
    "    if (j==0):\n",
    "        feature_importance=FI_GB['mean']\n",
    "        sorted_idx = np.argsort(feature_importance)\n",
    "        pos = np.arange(sorted_idx.shape[0]) + .5\n",
    "        plt.barh(pos, feature_importance[sorted_idx], align='center')\n",
    "        plt.yticks(pos, np.array(data_FS_X.columns)[sorted_idx])\n",
    "#         plt.xlim([0, 0.35])\n",
    "        plt.xlabel('Feature Importance')\n",
    "        plt.rc('axes', titlesize=20)\n",
    "        plt.title('GB')\n",
    "#         plt.text(-0.15, 8, 'A', fontdict=font2)\n",
    "        plt.rcParams['font.family'] = 'Arial'\n",
    "\n",
    "plt.tight_layout()\n",
    "plt.savefig('FI_GB.tiff', dpi=300,facecolor='white',bbox_inches='tight')\n",
    "plt.show()"
   ]
  },
  {
   "cell_type": "code",
   "execution_count": null,
   "metadata": {},
   "outputs": [],
   "source": []
  },
  {
   "cell_type": "code",
   "execution_count": null,
   "metadata": {},
   "outputs": [],
   "source": []
  },
  {
   "cell_type": "code",
   "execution_count": null,
   "metadata": {},
   "outputs": [],
   "source": []
  }
 ],
 "metadata": {
  "kernelspec": {
   "display_name": "Python 3 (ipykernel)",
   "language": "python",
   "name": "python3"
  },
  "language_info": {
   "codemirror_mode": {
    "name": "ipython",
    "version": 3
   },
   "file_extension": ".py",
   "mimetype": "text/x-python",
   "name": "python",
   "nbconvert_exporter": "python",
   "pygments_lexer": "ipython3",
   "version": "3.9.7"
  }
 },
 "nbformat": 4,
 "nbformat_minor": 4
}
